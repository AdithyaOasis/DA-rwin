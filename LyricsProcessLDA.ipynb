{
 "cells": [
  {
   "cell_type": "code",
   "execution_count": 1,
   "metadata": {},
   "outputs": [],
   "source": [
    "import pandas as pd"
   ]
  },
  {
   "cell_type": "code",
   "execution_count": 2,
   "metadata": {},
   "outputs": [],
   "source": [
    "df = pd.read_csv(\"WithLyrics.csv\")"
   ]
  },
  {
   "cell_type": "code",
   "execution_count": 3,
   "metadata": {},
   "outputs": [
    {
     "data": {
      "text/html": [
       "<div>\n",
       "<style scoped>\n",
       "    .dataframe tbody tr th:only-of-type {\n",
       "        vertical-align: middle;\n",
       "    }\n",
       "\n",
       "    .dataframe tbody tr th {\n",
       "        vertical-align: top;\n",
       "    }\n",
       "\n",
       "    .dataframe thead th {\n",
       "        text-align: right;\n",
       "    }\n",
       "</style>\n",
       "<table border=\"1\" class=\"dataframe\">\n",
       "  <thead>\n",
       "    <tr style=\"text-align: right;\">\n",
       "      <th></th>\n",
       "      <th>Unnamed: 0</th>\n",
       "      <th>acousticness</th>\n",
       "      <th>artists</th>\n",
       "      <th>danceability</th>\n",
       "      <th>duration_ms</th>\n",
       "      <th>energy</th>\n",
       "      <th>explicit</th>\n",
       "      <th>id</th>\n",
       "      <th>instrumentalness</th>\n",
       "      <th>key</th>\n",
       "      <th>...</th>\n",
       "      <th>loudness</th>\n",
       "      <th>mode</th>\n",
       "      <th>name</th>\n",
       "      <th>popularity</th>\n",
       "      <th>release_date</th>\n",
       "      <th>speechiness</th>\n",
       "      <th>tempo</th>\n",
       "      <th>valence</th>\n",
       "      <th>year</th>\n",
       "      <th>Lyrics</th>\n",
       "    </tr>\n",
       "  </thead>\n",
       "  <tbody>\n",
       "    <tr>\n",
       "      <th>0</th>\n",
       "      <td>0</td>\n",
       "      <td>0.995</td>\n",
       "      <td>['Carl Woitschach']</td>\n",
       "      <td>0.708</td>\n",
       "      <td>158648</td>\n",
       "      <td>0.1950</td>\n",
       "      <td>0</td>\n",
       "      <td>6KbQ3uYMLKb5jDxLF7wYDD</td>\n",
       "      <td>0.563</td>\n",
       "      <td>10</td>\n",
       "      <td>...</td>\n",
       "      <td>-12.428</td>\n",
       "      <td>1</td>\n",
       "      <td>Singende Bataillone 1. Teil</td>\n",
       "      <td>0</td>\n",
       "      <td>1928</td>\n",
       "      <td>0.0506</td>\n",
       "      <td>118.469</td>\n",
       "      <td>0.7790</td>\n",
       "      <td>1928</td>\n",
       "      <td>God said to Nietzsche: That’ll Tietzsche, You ...</td>\n",
       "    </tr>\n",
       "    <tr>\n",
       "      <th>1</th>\n",
       "      <td>1</td>\n",
       "      <td>0.994</td>\n",
       "      <td>['Robert Schumann', 'Vladimir Horowitz']</td>\n",
       "      <td>0.379</td>\n",
       "      <td>282133</td>\n",
       "      <td>0.0135</td>\n",
       "      <td>0</td>\n",
       "      <td>6KuQTIu1KoTTkLXKrwlLPV</td>\n",
       "      <td>0.901</td>\n",
       "      <td>8</td>\n",
       "      <td>...</td>\n",
       "      <td>-28.454</td>\n",
       "      <td>1</td>\n",
       "      <td>Fantasiestücke, Op. 111: Più tosto lento</td>\n",
       "      <td>0</td>\n",
       "      <td>1928</td>\n",
       "      <td>0.0462</td>\n",
       "      <td>83.972</td>\n",
       "      <td>0.0767</td>\n",
       "      <td>1928</td>\n",
       "      <td>NaN</td>\n",
       "    </tr>\n",
       "    <tr>\n",
       "      <th>2</th>\n",
       "      <td>2</td>\n",
       "      <td>0.604</td>\n",
       "      <td>['Seweryn Goszczyński']</td>\n",
       "      <td>0.749</td>\n",
       "      <td>104300</td>\n",
       "      <td>0.2200</td>\n",
       "      <td>0</td>\n",
       "      <td>6L63VW0PibdM1HDSBoqnoM</td>\n",
       "      <td>0.000</td>\n",
       "      <td>5</td>\n",
       "      <td>...</td>\n",
       "      <td>-19.924</td>\n",
       "      <td>0</td>\n",
       "      <td>Chapter 1.18 - Zamek kaniowski</td>\n",
       "      <td>0</td>\n",
       "      <td>1928</td>\n",
       "      <td>0.9290</td>\n",
       "      <td>107.177</td>\n",
       "      <td>0.8800</td>\n",
       "      <td>1928</td>\n",
       "      <td>NaN</td>\n",
       "    </tr>\n",
       "    <tr>\n",
       "      <th>3</th>\n",
       "      <td>3</td>\n",
       "      <td>0.995</td>\n",
       "      <td>['Francisco Canaro']</td>\n",
       "      <td>0.781</td>\n",
       "      <td>180760</td>\n",
       "      <td>0.1300</td>\n",
       "      <td>0</td>\n",
       "      <td>6M94FkXd15sOAOQYRnWPN8</td>\n",
       "      <td>0.887</td>\n",
       "      <td>1</td>\n",
       "      <td>...</td>\n",
       "      <td>-14.734</td>\n",
       "      <td>0</td>\n",
       "      <td>Bebamos Juntos - Instrumental (Remasterizado)</td>\n",
       "      <td>0</td>\n",
       "      <td>1928-09-25</td>\n",
       "      <td>0.0926</td>\n",
       "      <td>108.003</td>\n",
       "      <td>0.7200</td>\n",
       "      <td>1928</td>\n",
       "      <td>NaN</td>\n",
       "    </tr>\n",
       "    <tr>\n",
       "      <th>4</th>\n",
       "      <td>4</td>\n",
       "      <td>0.990</td>\n",
       "      <td>['Frédéric Chopin', 'Vladimir Horowitz']</td>\n",
       "      <td>0.210</td>\n",
       "      <td>687733</td>\n",
       "      <td>0.2040</td>\n",
       "      <td>0</td>\n",
       "      <td>6N6tiFZ9vLTSOIxkj8qKrd</td>\n",
       "      <td>0.908</td>\n",
       "      <td>11</td>\n",
       "      <td>...</td>\n",
       "      <td>-16.829</td>\n",
       "      <td>1</td>\n",
       "      <td>Polonaise-Fantaisie in A-Flat Major, Op. 61</td>\n",
       "      <td>1</td>\n",
       "      <td>1928</td>\n",
       "      <td>0.0424</td>\n",
       "      <td>62.149</td>\n",
       "      <td>0.0693</td>\n",
       "      <td>1928</td>\n",
       "      <td>NaN</td>\n",
       "    </tr>\n",
       "  </tbody>\n",
       "</table>\n",
       "<p>5 rows × 21 columns</p>\n",
       "</div>"
      ],
      "text/plain": [
       "   Unnamed: 0  acousticness                                   artists  \\\n",
       "0           0         0.995                       ['Carl Woitschach']   \n",
       "1           1         0.994  ['Robert Schumann', 'Vladimir Horowitz']   \n",
       "2           2         0.604                   ['Seweryn Goszczyński']   \n",
       "3           3         0.995                      ['Francisco Canaro']   \n",
       "4           4         0.990  ['Frédéric Chopin', 'Vladimir Horowitz']   \n",
       "\n",
       "   danceability  duration_ms  energy  explicit                      id  \\\n",
       "0         0.708       158648  0.1950         0  6KbQ3uYMLKb5jDxLF7wYDD   \n",
       "1         0.379       282133  0.0135         0  6KuQTIu1KoTTkLXKrwlLPV   \n",
       "2         0.749       104300  0.2200         0  6L63VW0PibdM1HDSBoqnoM   \n",
       "3         0.781       180760  0.1300         0  6M94FkXd15sOAOQYRnWPN8   \n",
       "4         0.210       687733  0.2040         0  6N6tiFZ9vLTSOIxkj8qKrd   \n",
       "\n",
       "   instrumentalness  key  ...  loudness  mode  \\\n",
       "0             0.563   10  ...   -12.428     1   \n",
       "1             0.901    8  ...   -28.454     1   \n",
       "2             0.000    5  ...   -19.924     0   \n",
       "3             0.887    1  ...   -14.734     0   \n",
       "4             0.908   11  ...   -16.829     1   \n",
       "\n",
       "                                            name popularity  release_date  \\\n",
       "0                    Singende Bataillone 1. Teil          0          1928   \n",
       "1       Fantasiestücke, Op. 111: Più tosto lento          0          1928   \n",
       "2                 Chapter 1.18 - Zamek kaniowski          0          1928   \n",
       "3  Bebamos Juntos - Instrumental (Remasterizado)          0    1928-09-25   \n",
       "4    Polonaise-Fantaisie in A-Flat Major, Op. 61          1          1928   \n",
       "\n",
       "  speechiness    tempo  valence  year  \\\n",
       "0      0.0506  118.469   0.7790  1928   \n",
       "1      0.0462   83.972   0.0767  1928   \n",
       "2      0.9290  107.177   0.8800  1928   \n",
       "3      0.0926  108.003   0.7200  1928   \n",
       "4      0.0424   62.149   0.0693  1928   \n",
       "\n",
       "                                              Lyrics  \n",
       "0  God said to Nietzsche: That’ll Tietzsche, You ...  \n",
       "1                                                NaN  \n",
       "2                                                NaN  \n",
       "3                                                NaN  \n",
       "4                                                NaN  \n",
       "\n",
       "[5 rows x 21 columns]"
      ]
     },
     "execution_count": 3,
     "metadata": {},
     "output_type": "execute_result"
    }
   ],
   "source": [
    "df.head()"
   ]
  },
  {
   "cell_type": "code",
   "execution_count": 4,
   "metadata": {},
   "outputs": [],
   "source": [
    "from sklearn.feature_extraction.text import CountVectorizer"
   ]
  },
  {
   "cell_type": "code",
   "execution_count": 5,
   "metadata": {},
   "outputs": [],
   "source": [
    "cv = CountVectorizer(max_df=0.95, min_df=2, stop_words='english')"
   ]
  },
  {
   "cell_type": "code",
   "execution_count": 6,
   "metadata": {},
   "outputs": [],
   "source": [
    "Lyrics = df['Lyrics']\n",
    "ProperLyrics = []\n",
    "def isNaN(string):\n",
    "    return string != string"
   ]
  },
  {
   "cell_type": "code",
   "execution_count": 7,
   "metadata": {},
   "outputs": [],
   "source": [
    "import numpy as np\n",
    "for i in range(len(Lyrics)):\n",
    "    if (isNaN(Lyrics[i])) != 1:\n",
    "        ProperLyrics.append(i)"
   ]
  },
  {
   "cell_type": "code",
   "execution_count": 8,
   "metadata": {},
   "outputs": [
    {
     "data": {
      "text/plain": [
       "[0,\n",
       " 5,\n",
       " 7,\n",
       " 18,\n",
       " 25,\n",
       " 26,\n",
       " 27,\n",
       " 32,\n",
       " 33,\n",
       " 35,\n",
       " 36,\n",
       " 40,\n",
       " 42,\n",
       " 48,\n",
       " 51,\n",
       " 55,\n",
       " 59,\n",
       " 62,\n",
       " 64,\n",
       " 66,\n",
       " 67,\n",
       " 69,\n",
       " 70,\n",
       " 72,\n",
       " 81,\n",
       " 82,\n",
       " 83,\n",
       " 85,\n",
       " 91,\n",
       " 93,\n",
       " 99,\n",
       " 100,\n",
       " 104,\n",
       " 107,\n",
       " 108,\n",
       " 110,\n",
       " 111,\n",
       " 112,\n",
       " 115,\n",
       " 117,\n",
       " 118,\n",
       " 119,\n",
       " 121,\n",
       " 122,\n",
       " 125,\n",
       " 126,\n",
       " 127,\n",
       " 128,\n",
       " 130,\n",
       " 132,\n",
       " 133,\n",
       " 139,\n",
       " 141,\n",
       " 145,\n",
       " 148,\n",
       " 149,\n",
       " 155,\n",
       " 156,\n",
       " 157,\n",
       " 159,\n",
       " 160,\n",
       " 163,\n",
       " 166,\n",
       " 167,\n",
       " 168,\n",
       " 169,\n",
       " 171,\n",
       " 173,\n",
       " 175,\n",
       " 176,\n",
       " 178,\n",
       " 181,\n",
       " 182,\n",
       " 184,\n",
       " 185,\n",
       " 188,\n",
       " 190,\n",
       " 191,\n",
       " 192,\n",
       " 193,\n",
       " 195,\n",
       " 196]"
      ]
     },
     "execution_count": 8,
     "metadata": {},
     "output_type": "execute_result"
    }
   ],
   "source": [
    "ProperLyrics"
   ]
  },
  {
   "cell_type": "code",
   "execution_count": 9,
   "metadata": {},
   "outputs": [],
   "source": [
    "PropLyr = []\n",
    "for i in ProperLyrics:\n",
    "    PropLyr.append(Lyrics[i])"
   ]
  },
  {
   "cell_type": "code",
   "execution_count": 11,
   "metadata": {},
   "outputs": [],
   "source": [
    "dtm = cv.fit_transform(PropLyr)"
   ]
  },
  {
   "cell_type": "code",
   "execution_count": 12,
   "metadata": {},
   "outputs": [
    {
     "data": {
      "text/plain": [
       "<82x13522 sparse matrix of type '<class 'numpy.int64'>'\n",
       "\twith 37618 stored elements in Compressed Sparse Row format>"
      ]
     },
     "execution_count": 12,
     "metadata": {},
     "output_type": "execute_result"
    }
   ],
   "source": [
    "dtm"
   ]
  },
  {
   "cell_type": "code",
   "execution_count": 13,
   "metadata": {},
   "outputs": [],
   "source": [
    "from sklearn.decomposition import LatentDirichletAllocation"
   ]
  },
  {
   "cell_type": "code",
   "execution_count": 33,
   "metadata": {},
   "outputs": [],
   "source": [
    "LDA = LatentDirichletAllocation(n_components=20,random_state=42)"
   ]
  },
  {
   "cell_type": "code",
   "execution_count": 34,
   "metadata": {},
   "outputs": [
    {
     "data": {
      "text/plain": [
       "LatentDirichletAllocation(n_components=20, random_state=42)"
      ]
     },
     "execution_count": 34,
     "metadata": {},
     "output_type": "execute_result"
    }
   ],
   "source": [
    "LDA.fit(dtm)"
   ]
  },
  {
   "cell_type": "code",
   "execution_count": 35,
   "metadata": {},
   "outputs": [
    {
     "data": {
      "text/plain": [
       "13522"
      ]
     },
     "execution_count": 35,
     "metadata": {},
     "output_type": "execute_result"
    }
   ],
   "source": [
    "len(cv.get_feature_names())"
   ]
  },
  {
   "cell_type": "code",
   "execution_count": 36,
   "metadata": {},
   "outputs": [
    {
     "data": {
      "text/plain": [
       "array([[0.05, 0.05, 0.05, ..., 0.05, 0.05, 0.05],\n",
       "       [0.05, 0.05, 0.05, ..., 0.05, 0.05, 0.05],\n",
       "       [0.05, 0.05, 0.05, ..., 0.05, 0.05, 0.05],\n",
       "       ...,\n",
       "       [0.05, 0.05, 0.05, ..., 0.05, 0.05, 0.05],\n",
       "       [0.05, 0.05, 5.05, ..., 0.05, 0.05, 0.05],\n",
       "       [0.05, 0.05, 0.05, ..., 0.05, 0.05, 0.05]])"
      ]
     },
     "execution_count": 36,
     "metadata": {},
     "output_type": "execute_result"
    }
   ],
   "source": [
    "LDA.components_"
   ]
  },
  {
   "cell_type": "code",
   "execution_count": 37,
   "metadata": {},
   "outputs": [],
   "source": [
    "single_topic = LDA.components_[0]"
   ]
  },
  {
   "cell_type": "code",
   "execution_count": 38,
   "metadata": {},
   "outputs": [
    {
     "data": {
      "text/plain": [
       "array([12243,  8257, 12240,  3406,  7534,  7309,  4227,  7794,  7578,\n",
       "       11105])"
      ]
     },
     "execution_count": 38,
     "metadata": {},
     "output_type": "execute_result"
    }
   ],
   "source": [
    "single_topic.argsort()[-10:]"
   ]
  },
  {
   "cell_type": "code",
   "execution_count": 39,
   "metadata": {},
   "outputs": [],
   "source": [
    "top_word_indices = single_topic.argsort()[-10:]"
   ]
  },
  {
   "cell_type": "code",
   "execution_count": 40,
   "metadata": {},
   "outputs": [
    {
     "name": "stdout",
     "output_type": "stream",
     "text": [
      "tells\n",
      "mother\n",
      "tell\n",
      "dad\n",
      "like\n",
      "know\n",
      "don\n",
      "mam\n",
      "ll\n",
      "says\n"
     ]
    }
   ],
   "source": [
    "for index in top_word_indices:\n",
    "    print(cv.get_feature_names()[index])"
   ]
  },
  {
   "cell_type": "code",
   "execution_count": 41,
   "metadata": {},
   "outputs": [
    {
     "name": "stdout",
     "output_type": "stream",
     "text": [
      "THE TOP 15 WORDS FOR TOPIC #0\n",
      "['want', 'day', 'bed', 'man', 'mr', 'tells', 'mother', 'tell', 'dad', 'like', 'know', 'don', 'mam', 'll', 'says']\n",
      "\n",
      "\n",
      "THE TOP 15 WORDS FOR TOPIC #1\n",
      "['alla', 'hook', 'mia', 'ho', 'vi', 'ha', 'yo', 'lo', 'mi', 'non', 'di', 'il', 'la', 'che', 'se']\n",
      "\n",
      "\n",
      "THE TOP 15 WORDS FOR TOPIC #2\n",
      "['mi', 'od', 'pa', 'ko', 'za', 'sam', 'kad', 'si', 'ne', 'ja', 'ti', 'na', 'se', 'da', 'je']\n",
      "\n",
      "\n",
      "THE TOP 15 WORDS FOR TOPIC #3\n",
      "['mata', 'le', 'bueno', 'happy', 'dale', 'mais', 'machete', 'los', 'pa', 'come', 'en', 'birthday', 'la', 'el', 'que']\n",
      "\n",
      "\n",
      "THE TOP 15 WORDS FOR TOPIC #4\n",
      "['headed', 'hey', 'boy', 'ma', 'day', 'little', 'elephant', 'stay', 'jungles', 'paul', 'east', 'st', 'lining', 'silver', 'look']\n",
      "\n",
      "\n",
      "THE TOP 15 WORDS FOR TOPIC #5\n",
      "['dance', 'make', 'nah', 'ain', 'niggas', 'verse', 'hit', 'big', 'got', 'chorus', 'nigga', 'need', 'oh', 'homie', 'yeah']\n",
      "\n",
      "\n",
      "THE TOP 15 WORDS FOR TOPIC #6\n",
      "['δε', 'σου', 'για', 'από', 'του', 'σε', 'θα', 'που', 'με', 'δεν', 'το', 'να', 'μου', 'και', 'την']\n",
      "\n",
      "\n",
      "THE TOP 15 WORDS FOR TOPIC #7\n",
      "['day', 'say', 'inside', 'god', 'marie', 'like', 'age', 'tell', 'want', 'case', 'people', 'life', 'know', 'don', 'just']\n",
      "\n",
      "\n",
      "THE TOP 15 WORDS FOR TOPIC #8\n",
      "['room', 'salaam', 'fake', 'chief', 'know', 'money', 'plenty', 'snakes', 'baby', 'cause', 'ring', 'niggas', 'bang', 'want', 'man']\n",
      "\n",
      "\n",
      "THE TOP 15 WORDS FOR TOPIC #9\n",
      "['west', 'does', 'cases', 'id', 'law', 'ed', 'court', 'act', 'york', 'liquor', 'wine', 'direct', 'new', 'states', 'state']\n",
      "\n",
      "\n",
      "THE TOP 15 WORDS FOR TOPIC #10\n",
      "['shine', 'know', 'doll', 'yeah', 'bottle', 'way', 'shot', 'merry', 'bright', 'day', 'say', 'man', 'run', 'christmas', 'got']\n",
      "\n",
      "\n",
      "THE TOP 15 WORDS FOR TOPIC #11\n",
      "['man', 'uma', 'já', 'party', 'vai', 'ha', 'lagi', 'ka', 'sa', 'mo', 'um', 'boom', 'pa', 'ay', 'na']\n",
      "\n",
      "\n",
      "THE TOP 15 WORDS FOR TOPIC #12\n",
      "['got', 'glory', 'number', 'machine', 'rudy', 'bobby', 'waterhouse', 'said', 'way', 'long', 'time', 'just', 'like', 'randy', 'lawrence']\n",
      "\n",
      "\n",
      "THE TOP 15 WORDS FOR TOPIC #13\n",
      "['al', 'es', 'como', 'su', 'por', 'sus', 'del', 'se', 'los', 'tu', 'las', 'que', 'el', 'en', 'la']\n",
      "\n",
      "\n",
      "THE TOP 15 WORDS FOR TOPIC #14\n",
      "['έχουμε', 'tem', 'você', 'tudo', 'um', 'come', 'ba', 'vamos', 'todos', 'lá', 'grande', 'uma', 'ως', 'στην', 'que']\n",
      "\n",
      "\n",
      "THE TOP 15 WORDS FOR TOPIC #15\n",
      "['function', 'tissue', 'large', 'ding', 'hey', 'action', 'normal', 'body', 'possible', 'cause', 'extracts', 'animals', 'sugar', 'time', 'blood']\n",
      "\n",
      "\n",
      "THE TOP 15 WORDS FOR TOPIC #16\n",
      "['su', 'lo', '2013', 'al', 'irán', 'para', 'las', 'por', 'los', 'se', 'del', 'en', 'el', 'que', 'la']\n",
      "\n",
      "\n",
      "THE TOP 15 WORDS FOR TOPIC #17\n",
      "['tight', 'touch', 'stranger', 'verse', 'pre', 'waiting', 'hopeless', 'hand', 'hearts', 'screaming', 'passing', 'darling', 'chorus', 'ed', 'loving']\n",
      "\n",
      "\n",
      "THE TOP 15 WORDS FOR TOPIC #18\n",
      "['18', '28', '16', '06', 'los', '17', 'el', '20', 'la', '14', '13', '12', 'ep', '11', '10']\n",
      "\n",
      "\n",
      "THE TOP 15 WORDS FOR TOPIC #19\n",
      "['zero', 'christian', 'poetry', 'things', 'sense', 'world', 'belief', 'rimbaud', 'section', 'hungry', 'death', 'god', 'truth', 'vol', 'ibid']\n",
      "\n",
      "\n"
     ]
    }
   ],
   "source": [
    "for index,topic in enumerate(LDA.components_):\n",
    "    print(f'THE TOP 15 WORDS FOR TOPIC #{index}')\n",
    "    print([cv.get_feature_names()[i] for i in topic.argsort()[-15:]])\n",
    "    print('\\n')"
   ]
  },
  {
   "cell_type": "code",
   "execution_count": 42,
   "metadata": {},
   "outputs": [
    {
     "data": {
      "text/plain": [
       "(82, 13522)"
      ]
     },
     "execution_count": 42,
     "metadata": {},
     "output_type": "execute_result"
    }
   ],
   "source": [
    "dtm.shape"
   ]
  },
  {
   "cell_type": "code",
   "execution_count": 43,
   "metadata": {},
   "outputs": [],
   "source": [
    "topic_results = LDA.transform(dtm)"
   ]
  },
  {
   "cell_type": "code",
   "execution_count": 44,
   "metadata": {},
   "outputs": [
    {
     "data": {
      "text/plain": [
       "(82, 20)"
      ]
     },
     "execution_count": 44,
     "metadata": {},
     "output_type": "execute_result"
    }
   ],
   "source": [
    "topic_results.shape"
   ]
  },
  {
   "cell_type": "code",
   "execution_count": 45,
   "metadata": {},
   "outputs": [],
   "source": [
    "Topics = topic_results.argmax(axis=1)"
   ]
  },
  {
   "cell_type": "code",
   "execution_count": 46,
   "metadata": {},
   "outputs": [
    {
     "data": {
      "text/plain": [
       "82"
      ]
     },
     "execution_count": 46,
     "metadata": {},
     "output_type": "execute_result"
    }
   ],
   "source": [
    "len(Topics)"
   ]
  },
  {
   "cell_type": "code",
   "execution_count": 47,
   "metadata": {},
   "outputs": [],
   "source": [
    "FinalTopics = []\n",
    "count = 0\n",
    "for i in range(len(df['Lyrics'])):\n",
    "    if i in ProperLyrics:\n",
    "        FinalTopics.append(Topics[count])\n",
    "    else:\n",
    "        FinalTopics.append(-1)"
   ]
  },
  {
   "cell_type": "code",
   "execution_count": 48,
   "metadata": {},
   "outputs": [],
   "source": [
    "df['Song Topics'] = FinalTopics"
   ]
  },
  {
   "cell_type": "code",
   "execution_count": 49,
   "metadata": {},
   "outputs": [
    {
     "data": {
      "text/html": [
       "<div>\n",
       "<style scoped>\n",
       "    .dataframe tbody tr th:only-of-type {\n",
       "        vertical-align: middle;\n",
       "    }\n",
       "\n",
       "    .dataframe tbody tr th {\n",
       "        vertical-align: top;\n",
       "    }\n",
       "\n",
       "    .dataframe thead th {\n",
       "        text-align: right;\n",
       "    }\n",
       "</style>\n",
       "<table border=\"1\" class=\"dataframe\">\n",
       "  <thead>\n",
       "    <tr style=\"text-align: right;\">\n",
       "      <th></th>\n",
       "      <th>Unnamed: 0</th>\n",
       "      <th>acousticness</th>\n",
       "      <th>artists</th>\n",
       "      <th>danceability</th>\n",
       "      <th>duration_ms</th>\n",
       "      <th>energy</th>\n",
       "      <th>explicit</th>\n",
       "      <th>id</th>\n",
       "      <th>instrumentalness</th>\n",
       "      <th>key</th>\n",
       "      <th>...</th>\n",
       "      <th>mode</th>\n",
       "      <th>name</th>\n",
       "      <th>popularity</th>\n",
       "      <th>release_date</th>\n",
       "      <th>speechiness</th>\n",
       "      <th>tempo</th>\n",
       "      <th>valence</th>\n",
       "      <th>year</th>\n",
       "      <th>Lyrics</th>\n",
       "      <th>Song Topics</th>\n",
       "    </tr>\n",
       "  </thead>\n",
       "  <tbody>\n",
       "    <tr>\n",
       "      <th>0</th>\n",
       "      <td>0</td>\n",
       "      <td>0.995</td>\n",
       "      <td>['Carl Woitschach']</td>\n",
       "      <td>0.708</td>\n",
       "      <td>158648</td>\n",
       "      <td>0.1950</td>\n",
       "      <td>0</td>\n",
       "      <td>6KbQ3uYMLKb5jDxLF7wYDD</td>\n",
       "      <td>0.563</td>\n",
       "      <td>10</td>\n",
       "      <td>...</td>\n",
       "      <td>1</td>\n",
       "      <td>Singende Bataillone 1. Teil</td>\n",
       "      <td>0</td>\n",
       "      <td>1928</td>\n",
       "      <td>0.0506</td>\n",
       "      <td>118.469</td>\n",
       "      <td>0.7790</td>\n",
       "      <td>1928</td>\n",
       "      <td>God said to Nietzsche: That’ll Tietzsche, You ...</td>\n",
       "      <td>19</td>\n",
       "    </tr>\n",
       "    <tr>\n",
       "      <th>1</th>\n",
       "      <td>1</td>\n",
       "      <td>0.994</td>\n",
       "      <td>['Robert Schumann', 'Vladimir Horowitz']</td>\n",
       "      <td>0.379</td>\n",
       "      <td>282133</td>\n",
       "      <td>0.0135</td>\n",
       "      <td>0</td>\n",
       "      <td>6KuQTIu1KoTTkLXKrwlLPV</td>\n",
       "      <td>0.901</td>\n",
       "      <td>8</td>\n",
       "      <td>...</td>\n",
       "      <td>1</td>\n",
       "      <td>Fantasiestücke, Op. 111: Più tosto lento</td>\n",
       "      <td>0</td>\n",
       "      <td>1928</td>\n",
       "      <td>0.0462</td>\n",
       "      <td>83.972</td>\n",
       "      <td>0.0767</td>\n",
       "      <td>1928</td>\n",
       "      <td>NaN</td>\n",
       "      <td>-1</td>\n",
       "    </tr>\n",
       "    <tr>\n",
       "      <th>2</th>\n",
       "      <td>2</td>\n",
       "      <td>0.604</td>\n",
       "      <td>['Seweryn Goszczyński']</td>\n",
       "      <td>0.749</td>\n",
       "      <td>104300</td>\n",
       "      <td>0.2200</td>\n",
       "      <td>0</td>\n",
       "      <td>6L63VW0PibdM1HDSBoqnoM</td>\n",
       "      <td>0.000</td>\n",
       "      <td>5</td>\n",
       "      <td>...</td>\n",
       "      <td>0</td>\n",
       "      <td>Chapter 1.18 - Zamek kaniowski</td>\n",
       "      <td>0</td>\n",
       "      <td>1928</td>\n",
       "      <td>0.9290</td>\n",
       "      <td>107.177</td>\n",
       "      <td>0.8800</td>\n",
       "      <td>1928</td>\n",
       "      <td>NaN</td>\n",
       "      <td>-1</td>\n",
       "    </tr>\n",
       "    <tr>\n",
       "      <th>3</th>\n",
       "      <td>3</td>\n",
       "      <td>0.995</td>\n",
       "      <td>['Francisco Canaro']</td>\n",
       "      <td>0.781</td>\n",
       "      <td>180760</td>\n",
       "      <td>0.1300</td>\n",
       "      <td>0</td>\n",
       "      <td>6M94FkXd15sOAOQYRnWPN8</td>\n",
       "      <td>0.887</td>\n",
       "      <td>1</td>\n",
       "      <td>...</td>\n",
       "      <td>0</td>\n",
       "      <td>Bebamos Juntos - Instrumental (Remasterizado)</td>\n",
       "      <td>0</td>\n",
       "      <td>1928-09-25</td>\n",
       "      <td>0.0926</td>\n",
       "      <td>108.003</td>\n",
       "      <td>0.7200</td>\n",
       "      <td>1928</td>\n",
       "      <td>NaN</td>\n",
       "      <td>-1</td>\n",
       "    </tr>\n",
       "    <tr>\n",
       "      <th>4</th>\n",
       "      <td>4</td>\n",
       "      <td>0.990</td>\n",
       "      <td>['Frédéric Chopin', 'Vladimir Horowitz']</td>\n",
       "      <td>0.210</td>\n",
       "      <td>687733</td>\n",
       "      <td>0.2040</td>\n",
       "      <td>0</td>\n",
       "      <td>6N6tiFZ9vLTSOIxkj8qKrd</td>\n",
       "      <td>0.908</td>\n",
       "      <td>11</td>\n",
       "      <td>...</td>\n",
       "      <td>1</td>\n",
       "      <td>Polonaise-Fantaisie in A-Flat Major, Op. 61</td>\n",
       "      <td>1</td>\n",
       "      <td>1928</td>\n",
       "      <td>0.0424</td>\n",
       "      <td>62.149</td>\n",
       "      <td>0.0693</td>\n",
       "      <td>1928</td>\n",
       "      <td>NaN</td>\n",
       "      <td>-1</td>\n",
       "    </tr>\n",
       "    <tr>\n",
       "      <th>...</th>\n",
       "      <td>...</td>\n",
       "      <td>...</td>\n",
       "      <td>...</td>\n",
       "      <td>...</td>\n",
       "      <td>...</td>\n",
       "      <td>...</td>\n",
       "      <td>...</td>\n",
       "      <td>...</td>\n",
       "      <td>...</td>\n",
       "      <td>...</td>\n",
       "      <td>...</td>\n",
       "      <td>...</td>\n",
       "      <td>...</td>\n",
       "      <td>...</td>\n",
       "      <td>...</td>\n",
       "      <td>...</td>\n",
       "      <td>...</td>\n",
       "      <td>...</td>\n",
       "      <td>...</td>\n",
       "      <td>...</td>\n",
       "      <td>...</td>\n",
       "    </tr>\n",
       "    <tr>\n",
       "      <th>95</th>\n",
       "      <td>95</td>\n",
       "      <td>0.995</td>\n",
       "      <td>['Ignacio Corsini']</td>\n",
       "      <td>0.599</td>\n",
       "      <td>135507</td>\n",
       "      <td>0.1370</td>\n",
       "      <td>0</td>\n",
       "      <td>75Tt3zPHlYnejhusIUy50f</td>\n",
       "      <td>0.305</td>\n",
       "      <td>5</td>\n",
       "      <td>...</td>\n",
       "      <td>0</td>\n",
       "      <td>Cualquier Cosa - Remasterizado</td>\n",
       "      <td>0</td>\n",
       "      <td>1928-05-14</td>\n",
       "      <td>0.1610</td>\n",
       "      <td>137.384</td>\n",
       "      <td>0.6870</td>\n",
       "      <td>1928</td>\n",
       "      <td>NaN</td>\n",
       "      <td>-1</td>\n",
       "    </tr>\n",
       "    <tr>\n",
       "      <th>96</th>\n",
       "      <td>96</td>\n",
       "      <td>0.994</td>\n",
       "      <td>['Francisco Canaro', 'Charlo']</td>\n",
       "      <td>0.615</td>\n",
       "      <td>170000</td>\n",
       "      <td>0.2050</td>\n",
       "      <td>0</td>\n",
       "      <td>75vvVnUqj8PlyJBAZ494p3</td>\n",
       "      <td>0.913</td>\n",
       "      <td>2</td>\n",
       "      <td>...</td>\n",
       "      <td>1</td>\n",
       "      <td>Pobre Gaucho - Remasterizado</td>\n",
       "      <td>0</td>\n",
       "      <td>1928-10-03</td>\n",
       "      <td>0.0618</td>\n",
       "      <td>58.299</td>\n",
       "      <td>0.7520</td>\n",
       "      <td>1928</td>\n",
       "      <td>NaN</td>\n",
       "      <td>-1</td>\n",
       "    </tr>\n",
       "    <tr>\n",
       "      <th>97</th>\n",
       "      <td>97</td>\n",
       "      <td>0.996</td>\n",
       "      <td>['Alexander Scriabin', 'Vladimir Horowitz']</td>\n",
       "      <td>0.278</td>\n",
       "      <td>288907</td>\n",
       "      <td>0.0049</td>\n",
       "      <td>0</td>\n",
       "      <td>75yPZGkLb31Q4dRFqzMF5z</td>\n",
       "      <td>0.932</td>\n",
       "      <td>11</td>\n",
       "      <td>...</td>\n",
       "      <td>1</td>\n",
       "      <td>Sonata No. 3, Op. 23 in F-Sharp Minor: III. An...</td>\n",
       "      <td>0</td>\n",
       "      <td>1928</td>\n",
       "      <td>0.0407</td>\n",
       "      <td>81.033</td>\n",
       "      <td>0.0606</td>\n",
       "      <td>1928</td>\n",
       "      <td>NaN</td>\n",
       "      <td>-1</td>\n",
       "    </tr>\n",
       "    <tr>\n",
       "      <th>98</th>\n",
       "      <td>98</td>\n",
       "      <td>0.996</td>\n",
       "      <td>['Alexander Scriabin', 'Vladimir Horowitz']</td>\n",
       "      <td>0.393</td>\n",
       "      <td>48627</td>\n",
       "      <td>0.0545</td>\n",
       "      <td>0</td>\n",
       "      <td>75zIt9muIwtL6o30PcqskO</td>\n",
       "      <td>0.829</td>\n",
       "      <td>7</td>\n",
       "      <td>...</td>\n",
       "      <td>1</td>\n",
       "      <td>Preludes: Op. 11, No. 3 in G</td>\n",
       "      <td>0</td>\n",
       "      <td>1928</td>\n",
       "      <td>0.0366</td>\n",
       "      <td>70.495</td>\n",
       "      <td>0.3740</td>\n",
       "      <td>1928</td>\n",
       "      <td>NaN</td>\n",
       "      <td>-1</td>\n",
       "    </tr>\n",
       "    <tr>\n",
       "      <th>99</th>\n",
       "      <td>99</td>\n",
       "      <td>0.105</td>\n",
       "      <td>['Shungi Music Crew']</td>\n",
       "      <td>0.699</td>\n",
       "      <td>388115</td>\n",
       "      <td>0.8380</td>\n",
       "      <td>0</td>\n",
       "      <td>764wHEOb2yPgsJHmU0J4ZS</td>\n",
       "      <td>0.909</td>\n",
       "      <td>7</td>\n",
       "      <td>...</td>\n",
       "      <td>1</td>\n",
       "      <td>Trip to Limpopo</td>\n",
       "      <td>0</td>\n",
       "      <td>1928-08-20</td>\n",
       "      <td>0.0462</td>\n",
       "      <td>123.993</td>\n",
       "      <td>0.4810</td>\n",
       "      <td>1928</td>\n",
       "      <td>O tell me all about Anna Livia! I want to hear...</td>\n",
       "      <td>19</td>\n",
       "    </tr>\n",
       "  </tbody>\n",
       "</table>\n",
       "<p>100 rows × 22 columns</p>\n",
       "</div>"
      ],
      "text/plain": [
       "    Unnamed: 0  acousticness                                      artists  \\\n",
       "0            0         0.995                          ['Carl Woitschach']   \n",
       "1            1         0.994     ['Robert Schumann', 'Vladimir Horowitz']   \n",
       "2            2         0.604                      ['Seweryn Goszczyński']   \n",
       "3            3         0.995                         ['Francisco Canaro']   \n",
       "4            4         0.990     ['Frédéric Chopin', 'Vladimir Horowitz']   \n",
       "..         ...           ...                                          ...   \n",
       "95          95         0.995                          ['Ignacio Corsini']   \n",
       "96          96         0.994               ['Francisco Canaro', 'Charlo']   \n",
       "97          97         0.996  ['Alexander Scriabin', 'Vladimir Horowitz']   \n",
       "98          98         0.996  ['Alexander Scriabin', 'Vladimir Horowitz']   \n",
       "99          99         0.105                        ['Shungi Music Crew']   \n",
       "\n",
       "    danceability  duration_ms  energy  explicit                      id  \\\n",
       "0          0.708       158648  0.1950         0  6KbQ3uYMLKb5jDxLF7wYDD   \n",
       "1          0.379       282133  0.0135         0  6KuQTIu1KoTTkLXKrwlLPV   \n",
       "2          0.749       104300  0.2200         0  6L63VW0PibdM1HDSBoqnoM   \n",
       "3          0.781       180760  0.1300         0  6M94FkXd15sOAOQYRnWPN8   \n",
       "4          0.210       687733  0.2040         0  6N6tiFZ9vLTSOIxkj8qKrd   \n",
       "..           ...          ...     ...       ...                     ...   \n",
       "95         0.599       135507  0.1370         0  75Tt3zPHlYnejhusIUy50f   \n",
       "96         0.615       170000  0.2050         0  75vvVnUqj8PlyJBAZ494p3   \n",
       "97         0.278       288907  0.0049         0  75yPZGkLb31Q4dRFqzMF5z   \n",
       "98         0.393        48627  0.0545         0  75zIt9muIwtL6o30PcqskO   \n",
       "99         0.699       388115  0.8380         0  764wHEOb2yPgsJHmU0J4ZS   \n",
       "\n",
       "    instrumentalness  key  ...  mode  \\\n",
       "0              0.563   10  ...     1   \n",
       "1              0.901    8  ...     1   \n",
       "2              0.000    5  ...     0   \n",
       "3              0.887    1  ...     0   \n",
       "4              0.908   11  ...     1   \n",
       "..               ...  ...  ...   ...   \n",
       "95             0.305    5  ...     0   \n",
       "96             0.913    2  ...     1   \n",
       "97             0.932   11  ...     1   \n",
       "98             0.829    7  ...     1   \n",
       "99             0.909    7  ...     1   \n",
       "\n",
       "                                                 name  popularity  \\\n",
       "0                         Singende Bataillone 1. Teil           0   \n",
       "1            Fantasiestücke, Op. 111: Più tosto lento           0   \n",
       "2                      Chapter 1.18 - Zamek kaniowski           0   \n",
       "3       Bebamos Juntos - Instrumental (Remasterizado)           0   \n",
       "4         Polonaise-Fantaisie in A-Flat Major, Op. 61           1   \n",
       "..                                                ...         ...   \n",
       "95                     Cualquier Cosa - Remasterizado           0   \n",
       "96                       Pobre Gaucho - Remasterizado           0   \n",
       "97  Sonata No. 3, Op. 23 in F-Sharp Minor: III. An...           0   \n",
       "98                       Preludes: Op. 11, No. 3 in G           0   \n",
       "99                                    Trip to Limpopo           0   \n",
       "\n",
       "   release_date  speechiness    tempo  valence  year  \\\n",
       "0          1928       0.0506  118.469   0.7790  1928   \n",
       "1          1928       0.0462   83.972   0.0767  1928   \n",
       "2          1928       0.9290  107.177   0.8800  1928   \n",
       "3    1928-09-25       0.0926  108.003   0.7200  1928   \n",
       "4          1928       0.0424   62.149   0.0693  1928   \n",
       "..          ...          ...      ...      ...   ...   \n",
       "95   1928-05-14       0.1610  137.384   0.6870  1928   \n",
       "96   1928-10-03       0.0618   58.299   0.7520  1928   \n",
       "97         1928       0.0407   81.033   0.0606  1928   \n",
       "98         1928       0.0366   70.495   0.3740  1928   \n",
       "99   1928-08-20       0.0462  123.993   0.4810  1928   \n",
       "\n",
       "                                               Lyrics  Song Topics  \n",
       "0   God said to Nietzsche: That’ll Tietzsche, You ...           19  \n",
       "1                                                 NaN           -1  \n",
       "2                                                 NaN           -1  \n",
       "3                                                 NaN           -1  \n",
       "4                                                 NaN           -1  \n",
       "..                                                ...          ...  \n",
       "95                                                NaN           -1  \n",
       "96                                                NaN           -1  \n",
       "97                                                NaN           -1  \n",
       "98                                                NaN           -1  \n",
       "99  O tell me all about Anna Livia! I want to hear...           19  \n",
       "\n",
       "[100 rows x 22 columns]"
      ]
     },
     "execution_count": 49,
     "metadata": {},
     "output_type": "execute_result"
    }
   ],
   "source": [
    "df.head(100)"
   ]
  },
  {
   "cell_type": "code",
   "execution_count": 52,
   "metadata": {},
   "outputs": [],
   "source": [
    "numbers = []\n",
    "for i in range(21):\n",
    "    numbers.append(0)\n",
    "for i in df['Song Topics']:\n",
    "    numbers[i+1] = numbers[i+1] + 1"
   ]
  },
  {
   "cell_type": "code",
   "execution_count": 53,
   "metadata": {},
   "outputs": [
    {
     "data": {
      "text/plain": [
       "[118, 0, 0, 0, 0, 0, 0, 0, 0, 0, 0, 0, 0, 0, 0, 0, 0, 0, 0, 0, 82]"
      ]
     },
     "execution_count": 53,
     "metadata": {},
     "output_type": "execute_result"
    }
   ],
   "source": [
    "numbers"
   ]
  },
  {
   "cell_type": "code",
   "execution_count": null,
   "metadata": {},
   "outputs": [],
   "source": []
  }
 ],
 "metadata": {
  "kernelspec": {
   "display_name": "Python 3",
   "language": "python",
   "name": "python3"
  },
  "language_info": {
   "codemirror_mode": {
    "name": "ipython",
    "version": 3
   },
   "file_extension": ".py",
   "mimetype": "text/x-python",
   "name": "python",
   "nbconvert_exporter": "python",
   "pygments_lexer": "ipython3",
   "version": "3.8.3"
  }
 },
 "nbformat": 4,
 "nbformat_minor": 4
}
